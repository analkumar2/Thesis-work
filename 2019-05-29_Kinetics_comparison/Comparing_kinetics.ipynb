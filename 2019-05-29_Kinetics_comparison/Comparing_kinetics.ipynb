{
 "cells": [
  {
   "cell_type": "markdown",
   "metadata": {},
   "source": [
    "# Comparing kinetics Migliore2018, Poirazi2003, Srikanth2015, experiments"
   ]
  },
  {
   "cell_type": "markdown",
   "metadata": {},
   "source": [
    "##### Since channels may use different number of gates but still may have similar kinetics, I'm using 3 different clamp protocols to compare the opening probabilities. The temperature is 305 K or $32^{o}$C."
   ]
  },
  {
   "cell_type": "markdown",
   "metadata": {},
   "source": [
    "##### Srikanth2015:\n",
    "1. qt problems:\n",
    "    1) Inactivation gates of Ca_R is scaled by qt but q10 is the same for both activation as well as inactivation.\n",
    "2. GHK models of Ca_T, Ca_R , Ca_L, and Ca_N\n",
    "3. K_SK and K_BK are connected to currents from Ca_T, Ca_R, Ca_N & Ca_L\n",
    "4. Ca dependent channels - K_SK, K_BK, Ca_L, Ca_N\n",
    "5. Basal calcium concentration is 50e-6mM"
   ]
  },
  {
   "cell_type": "code",
   "execution_count": 1,
   "metadata": {},
   "outputs": [],
   "source": [
    "import io\n",
    "import os\n",
    "import sys\n",
    "from neo.io import AxonIO\n",
    "import quantities as pq\n",
    "import csv\n",
    "import os\n",
    "import matplotlib.pyplot as plt\n",
    "import matplotlib.image as mpimg\n",
    "from matplotlib.widgets import Slider, Button, RadioButtons, TextBox\n",
    "import numpy as np\n",
    "import warnings\n",
    "import moose\n",
    "import pickle\n",
    "import rdesigneur as rd\n",
    "from allensdk.ephys.ephys_extractor import EphysSweepFeatureExtractor"
   ]
  },
  {
   "cell_type": "markdown",
   "metadata": {},
   "source": [
    "### 1spike_proto define"
   ]
  },
  {
   "cell_type": "code",
   "execution_count": null,
   "metadata": {},
   "outputs": [],
   "source": []
  },
  {
   "cell_type": "markdown",
   "metadata": {},
   "source": [
    "## Na_Chan"
   ]
  },
  {
   "cell_type": "markdown",
   "metadata": {},
   "source": [
    "### 1spike_proto"
   ]
  },
  {
   "cell_type": "code",
   "execution_count": null,
   "metadata": {},
   "outputs": [],
   "source": []
  },
  {
   "cell_type": "markdown",
   "metadata": {},
   "source": [
    "### smallVclamp_proto"
   ]
  },
  {
   "cell_type": "code",
   "execution_count": null,
   "metadata": {},
   "outputs": [],
   "source": []
  },
  {
   "cell_type": "markdown",
   "metadata": {},
   "source": [
    "### spiketrain_proto"
   ]
  },
  {
   "cell_type": "code",
   "execution_count": null,
   "metadata": {},
   "outputs": [],
   "source": []
  }
 ],
 "metadata": {
  "kernelspec": {
   "display_name": "Python 3",
   "language": "python",
   "name": "python3"
  },
  "language_info": {
   "codemirror_mode": {
    "name": "ipython",
    "version": 3
   },
   "file_extension": ".py",
   "mimetype": "text/x-python",
   "name": "python",
   "nbconvert_exporter": "python",
   "pygments_lexer": "ipython3",
   "version": "3.6.7"
  }
 },
 "nbformat": 4,
 "nbformat_minor": 2
}
